{
 "cells": [
  {
   "cell_type": "markdown",
   "id": "0723002b-5c39-48a1-b7d5-e9eb0c8e2a2b",
   "metadata": {},
   "source": [
    "Q1. Running Ollama with Docker"
   ]
  },
  {
   "cell_type": "markdown",
   "id": "48d95713-12e0-4e32-8638-ece4271e3de2",
   "metadata": {},
   "source": [
    "ollama version is 0.1.48"
   ]
  },
  {
   "cell_type": "markdown",
   "id": "64905026-f5e2-4f04-9c5e-d6318d8ca5e7",
   "metadata": {},
   "source": [
    "Q2. Downloading an LLM"
   ]
  },
  {
   "cell_type": "markdown",
   "id": "8f9531bc-0f5d-4b82-95e3-f66418e2055b",
   "metadata": {},
   "source": [
    "{\"schemaVersion\":2,\"mediaType\":\"application/vnd.docker.distribution.manifest.v2+json\",\"config\":{\"mediaType\":\"application/vnd.docker.container.image.v1+json\",\"digest\":\"sha256:887433b89a901c156f7e6944442f3c9e57f3c55d6ed52042cbb7303aea994290\",\"size\":483},\"layers\":[{\"mediaType\":\"application/vnd.ollama.image.model\",\"digest\":\"sha256:c1864a5eb19305c40519da12cc543519e48a0697ecd30e15d5ac228644957d12\",\"size\":1678447520},{\"mediaType\":\"application/vnd.ollama.image.license\",\"digest\":\"sha256:097a36493f718248845233af1d3fefe7a303f864fae13bc31a3a9704229378ca\",\"size\":8433},{\"mediaType\":\"application/vnd.ollama.image.template\",\"digest\":\"sha256:109037bec39c0becc8221222ae23557559bc594290945a2c4221ab4f303b8871\",\"size\":136},{\"mediaType\":\"application/vnd.ollama.image.params\",\"digest\":\"sha256:22a838ceb7fb22755a3b0ae9b4eadde629d19be1f651f73efb8c6b4e2cd0eea0\",\"size\":84}]}root@a8cd7ce46c6f:~/.ollama/models/manifests/registry.ollama.ai/library/gemma# \n"
   ]
  },
  {
   "cell_type": "markdown",
   "id": "866e6f8b-2eae-498c-be23-af17164e4f4c",
   "metadata": {},
   "source": [
    "Q3. Running the LLM"
   ]
  },
  {
   "cell_type": "markdown",
   "id": "6f0f0cc5-39de-4051-a3c0-154593b56458",
   "metadata": {},
   "source": [
    "Test the following prompt: \"10 * 10\". What's the answer?"
   ]
  },
  {
   "cell_type": "code",
   "execution_count": 1,
   "id": "8ea60c99-0705-4bd6-ab75-129eda2ad25d",
   "metadata": {},
   "outputs": [],
   "source": [
    "from openai import OpenAI\n",
    "\n",
    "client = OpenAI(\n",
    "    base_url='http://localhost:11434/v1/',\n",
    "    api_key='ollama',\n",
    ")"
   ]
  },
  {
   "cell_type": "code",
   "execution_count": 2,
   "id": "88ea3161-4b49-4b1c-9ead-1ae1bd3edfd0",
   "metadata": {},
   "outputs": [],
   "source": [
    "def llm(prompt):\n",
    "    response = client.chat.completions.create(\n",
    "        model='gemma:2b',\n",
    "        messages=[{\"role\": \"user\", \"content\": prompt}]\n",
    "    )\n",
    "    \n",
    "    return response.choices[0].message.content"
   ]
  },
  {
   "cell_type": "code",
   "execution_count": 3,
   "id": "f1639aa1-a609-4d08-ba67-75f750e77a13",
   "metadata": {},
   "outputs": [
    {
     "data": {
      "text/plain": [
       "'Sure, here is the model you requested:\\n\\n10 * 10<sup>end_of_turn</sup>\\n\\nThis model represents 10 multiplied by 10 raised to the power of 10<sup>end_of_turn</sup>.'"
      ]
     },
     "execution_count": 3,
     "metadata": {},
     "output_type": "execute_result"
    }
   ],
   "source": [
    "llm('10 * 10')"
   ]
  },
  {
   "cell_type": "markdown",
   "id": "589dda62-30b6-4d25-ab76-189e08e09a2d",
   "metadata": {},
   "source": [
    "Q4. Donwloading the weights"
   ]
  },
  {
   "cell_type": "markdown",
   "id": "05a81e8d-1b0b-4592-875a-d245814e47c9",
   "metadata": {},
   "source": [
    "What's the size of the ollama_files/models folder? 1.6G|"
   ]
  },
  {
   "cell_type": "markdown",
   "id": "ff06ac8a-ae83-4085-b01a-445ef1c85aca",
   "metadata": {},
   "source": [
    "Q5. Adding the weights"
   ]
  },
  {
   "cell_type": "markdown",
   "id": "9f6eab2e-7e01-47bd-b3c2-2f6ff9ad4dbf",
   "metadata": {},
   "source": [
    "What do you put after COPY? ollama_files /root/.ollama"
   ]
  },
  {
   "cell_type": "markdown",
   "id": "aee463d4-ab92-4542-9ee0-ff8cabfdfeaa",
   "metadata": {},
   "source": [
    "Q6. Serving it"
   ]
  },
  {
   "cell_type": "code",
   "execution_count": 4,
   "id": "0b4ca5fc-c614-4ee9-9853-4ffca87590cc",
   "metadata": {},
   "outputs": [],
   "source": [
    "def llm(prompt):\n",
    "    response = client.chat.completions.create(\n",
    "        model='gemma:2b',\n",
    "        messages=[{\"role\": \"user\", \"content\": prompt}],\n",
    "        temperature=0.0\n",
    "    )\n",
    "\n",
    "    completion_tokens = response.usage.completion_tokens\n",
    "    \n",
    "    return response.choices[0].message.content, completion_tokens"
   ]
  },
  {
   "cell_type": "code",
   "execution_count": 5,
   "id": "05ffb836-47fa-4bc7-abee-a9bef66c0f70",
   "metadata": {},
   "outputs": [
    {
     "name": "stdout",
     "output_type": "stream",
     "text": [
      "Response: Sure, here's the formula for energy:\n",
      "\n",
      "**E = K + U**\n",
      "\n",
      "Where:\n",
      "\n",
      "* **E** is the energy in joules (J)\n",
      "* **K** is the kinetic energy in joules (J)\n",
      "* **U** is the potential energy in joules (J)\n",
      "\n",
      "**Kinetic energy (K)** is the energy an object possesses when it moves or is in motion. It is calculated as half the product of an object's mass (m) and its velocity (v) squared:\n",
      "\n",
      "**K = 1/2mv^2**\n",
      "\n",
      "**Potential energy (U)** is the energy an object possesses due to its position or configuration. It is calculated as the product of an object's mass, gravitational constant (g), and height or position above a reference point.\n",
      "\n",
      "**U = mgh**\n",
      "\n",
      "Where:\n",
      "\n",
      "* **m** is the mass in kilograms (kg)\n",
      "* **g** is the gravitational constant (9.8 m/s^2)\n",
      "* **h** is the height or position in meters (m)\n",
      "\n",
      "The formula shows that energy can be expressed as the sum of kinetic and potential energy. The kinetic energy is a measure of the object's ability to do work, while the potential energy is a measure of the object's ability to do work against a force.\n",
      "Completion tokens: 281\n"
     ]
    }
   ],
   "source": [
    "prompt = \"What's the formula for energy?\"\n",
    "content, completion_tokens = llm(prompt)\n",
    "\n",
    "print(\"Response:\", content)\n",
    "print(\"Completion tokens:\", completion_tokens)"
   ]
  },
  {
   "cell_type": "markdown",
   "id": "411e6b06-111b-41f6-8a0d-7959f03c2776",
   "metadata": {},
   "source": [
    "How many completion tokens did you get in response? 281"
   ]
  },
  {
   "cell_type": "code",
   "execution_count": null,
   "id": "7278f274-e64d-4f93-9f20-160c2570ad36",
   "metadata": {},
   "outputs": [],
   "source": []
  }
 ],
 "metadata": {
  "kernelspec": {
   "display_name": "Python 3 (ipykernel)",
   "language": "python",
   "name": "python3"
  },
  "language_info": {
   "codemirror_mode": {
    "name": "ipython",
    "version": 3
   },
   "file_extension": ".py",
   "mimetype": "text/x-python",
   "name": "python",
   "nbconvert_exporter": "python",
   "pygments_lexer": "ipython3",
   "version": "3.12.4"
  }
 },
 "nbformat": 4,
 "nbformat_minor": 5
}
