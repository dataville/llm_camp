{
 "cells": [
  {
   "cell_type": "code",
   "execution_count": 1,
   "id": "6eab1618-cfa2-4935-93fa-9a2135121696",
   "metadata": {},
   "outputs": [
    {
     "name": "stderr",
     "output_type": "stream",
     "text": [
      "/home/moogedelic/miniforge3/envs/llm_camp_env/lib/python3.12/site-packages/sentence_transformers/cross_encoder/CrossEncoder.py:11: TqdmExperimentalWarning: Using `tqdm.autonotebook.tqdm` in notebook mode. Use `tqdm.tqdm` instead to force console mode (e.g. in jupyter console)\n",
      "  from tqdm.autonotebook import tqdm, trange\n"
     ]
    }
   ],
   "source": [
    "import json\n",
    "from sentence_transformers import SentenceTransformer\n",
    "from elasticsearch import Elasticsearch\n",
    "import requests\n",
    "import numpy as np\n",
    "import pandas as pd\n",
    "from tqdm.auto import tqdm"
   ]
  },
  {
   "cell_type": "markdown",
   "id": "4c0bdbff-4a5a-4815-97e0-c25e1224d41d",
   "metadata": {},
   "source": [
    "Q1. Getting the embeddings model"
   ]
  },
  {
   "cell_type": "code",
   "execution_count": 2,
   "id": "92fd9f36-4212-4f93-983b-b5a661152fd8",
   "metadata": {},
   "outputs": [
    {
     "name": "stderr",
     "output_type": "stream",
     "text": [
      "/home/moogedelic/miniforge3/envs/llm_camp_env/lib/python3.12/site-packages/torch/cuda/__init__.py:118: UserWarning: CUDA initialization: CUDA unknown error - this may be due to an incorrectly set up environment, e.g. changing env variable CUDA_VISIBLE_DEVICES after program start. Setting the available devices to be zero. (Triggered internally at /opt/conda/conda-bld/pytorch_1716905971214/work/c10/cuda/CUDAFunctions.cpp:108.)\n",
      "  return torch._C._cuda_getDeviceCount() > 0\n"
     ]
    }
   ],
   "source": [
    "model = SentenceTransformer(\"multi-qa-distilbert-cos-v1\")"
   ]
  },
  {
   "cell_type": "markdown",
   "id": "e0e41952-3431-4f08-b2e6-e4a8b022afcb",
   "metadata": {},
   "source": [
    "Create the embedding for this user question:"
   ]
  },
  {
   "cell_type": "code",
   "execution_count": 3,
   "id": "985d04b3-9f10-4537-8a16-5d740bb98888",
   "metadata": {},
   "outputs": [
    {
     "data": {
      "text/plain": [
       "0.078222655"
      ]
     },
     "execution_count": 3,
     "metadata": {},
     "output_type": "execute_result"
    }
   ],
   "source": [
    "user_question = \"I just discovered the course. Can I still join it?\"\n",
    "question_vector = model.encode(user_question)\n",
    "question_vector[0]"
   ]
  },
  {
   "cell_type": "markdown",
   "id": "12e413c8-fbee-4b95-86df-f50234939cff",
   "metadata": {},
   "source": [
    "What's the first value of the resulting vector? 0.07"
   ]
  },
  {
   "cell_type": "markdown",
   "id": "d020c1b6-3b7b-447f-a2ab-be5fe8114f03",
   "metadata": {},
   "source": [
    "Prepare the documents"
   ]
  },
  {
   "cell_type": "code",
   "execution_count": 4,
   "id": "6a9c5d4c-0570-422f-ad26-bcf5128495f9",
   "metadata": {},
   "outputs": [
    {
     "data": {
      "text/plain": [
       "375"
      ]
     },
     "execution_count": 4,
     "metadata": {},
     "output_type": "execute_result"
    }
   ],
   "source": [
    "base_url = 'https://github.com/DataTalksClub/llm-zoomcamp/blob/main'\n",
    "relative_url = '03-vector-search/eval/documents-with-ids.json'\n",
    "docs_url = f'{base_url}/{relative_url}?raw=1'\n",
    "docs_response = requests.get(docs_url)\n",
    "documents = docs_response.json()\n",
    "# Filter the documents\n",
    "filtered_documents = [doc for doc in documents if doc.get('course') == 'machine-learning-zoomcamp']\n",
    "len(filtered_documents)"
   ]
  },
  {
   "cell_type": "markdown",
   "id": "4ec6bede-af8a-4c1a-b67c-7b4fe6b3a00a",
   "metadata": {},
   "source": [
    "Q2. Creating the embeddings"
   ]
  },
  {
   "cell_type": "code",
   "execution_count": 5,
   "id": "2558f7c8-1708-47de-ab5f-61bdd211c27b",
   "metadata": {},
   "outputs": [],
   "source": [
    "# Create a list to store embeddings\n",
    "embeddings = []\n",
    "\n",
    "# Iterate over each filtered document and compute embeddings\n",
    "for doc in filtered_documents:\n",
    "    question = doc.get('question', '')\n",
    "    answer = doc.get('text', '')\n",
    "    qa_text = f'{question} {answer}'\n",
    "    embedding = model.encode(qa_text)\n",
    "    embeddings.append(embedding)"
   ]
  },
  {
   "cell_type": "code",
   "execution_count": 6,
   "id": "e1f05dd7-0dc6-4ea1-8dd0-b97b3bc5c215",
   "metadata": {},
   "outputs": [
    {
     "name": "stdout",
     "output_type": "stream",
     "text": [
      "(375, 768)\n"
     ]
    }
   ],
   "source": [
    "# Convert the list of embeddings to a NumPy array\n",
    "X = np.array(embeddings)\n",
    "\n",
    "# Print the shape of the resulting array\n",
    "print(X.shape)"
   ]
  },
  {
   "cell_type": "markdown",
   "id": "2c3b83b0-319a-41c5-a3d0-5746d57d43ac",
   "metadata": {},
   "source": [
    "What's the shape of X? (375, 768)"
   ]
  },
  {
   "cell_type": "markdown",
   "id": "86d9456e-9674-4b42-9513-93532f1bacb3",
   "metadata": {},
   "source": [
    "Q3. Search"
   ]
  },
  {
   "cell_type": "code",
   "execution_count": 7,
   "id": "c6ea7453-da0f-4c35-b282-5eb121cef907",
   "metadata": {},
   "outputs": [
    {
     "data": {
      "text/plain": [
       "0.6506574"
      ]
     },
     "execution_count": 7,
     "metadata": {},
     "output_type": "execute_result"
    }
   ],
   "source": [
    "scores = X.dot(question_vector)\n",
    "scores.max()"
   ]
  },
  {
   "cell_type": "markdown",
   "id": "228edfe6-4149-4e60-8065-abf86b85ae53",
   "metadata": {},
   "source": [
    "What's the highest score in the results? 0.65"
   ]
  },
  {
   "cell_type": "markdown",
   "id": "cf4b75cf-c24c-4f8c-ba6f-44d0bcadb8f1",
   "metadata": {},
   "source": [
    "Vector search"
   ]
  },
  {
   "cell_type": "code",
   "execution_count": 8,
   "id": "a021fde8-c8b4-4c0e-8e36-1a415ab20914",
   "metadata": {},
   "outputs": [
    {
     "data": {
      "text/plain": [
       "[{'text': 'Yes, you can. You won’t be able to submit some of the homeworks, but you can still take part in the course.\\nIn order to get a certificate, you need to submit 2 out of 3 course projects and review 3 peers’ Projects by the deadline. It means that if you join the course at the end of November and manage to work on two projects, you will still be eligible for a certificate.',\n",
       "  'section': 'General course-related questions',\n",
       "  'question': 'The course has already started. Can I still join it?',\n",
       "  'course': 'machine-learning-zoomcamp',\n",
       "  'id': 'ee58a693'},\n",
       " {'text': 'Welcome to the course! Go to the course page (http://mlzoomcamp.com/), scroll down and start going through the course materials. Then read everything in the cohort folder for your cohort’s year.\\nClick on the links and start watching the videos. Also watch office hours from previous cohorts. Go to DTC youtube channel and click on Playlists and search for {course yyyy}. ML Zoomcamp was first launched in 2021.\\nOr you can just use this link: http://mlzoomcamp.com/#syllabus',\n",
       "  'section': 'General course-related questions',\n",
       "  'question': 'I just joined. What should I do next? How can I access course materials?',\n",
       "  'course': 'machine-learning-zoomcamp',\n",
       "  'id': '0a278fb2'},\n",
       " {'text': \"The process is automated now, so you should receive the email eventually. If you haven’t, check your promotions tab in Gmail as well as spam.\\nIf you unsubscribed from our newsletter, you won't get course related updates too.\\nBut don't worry, it’s not a problem. To make sure you don’t miss anything, join the #course-ml-zoomcamp channel in Slack and our telegram channel with announcements. This is enough to follow the course.\",\n",
       "  'section': 'General course-related questions',\n",
       "  'question': \"I filled the form, but haven't received a confirmation email. Is it normal?\",\n",
       "  'course': 'machine-learning-zoomcamp',\n",
       "  'id': '6ba259b1'},\n",
       " {'text': 'Technically, yes. Advisable? Not really. Reasons:\\nSome homework(s) asks for specific python library versions.\\nAnswers may not match in MCQ options if using different languages other than Python 3.10 (the recommended version for 2023 cohort)\\nAnd as for midterms/capstones, your peer-reviewers may not know these other languages. Do you want to be penalized for others not knowing these other languages?\\nYou can create a separate repo using course’s lessons but written in other languages for your own learnings, but not advisable for submissions.\\ntx[source]',\n",
       "  'section': 'Miscellaneous',\n",
       "  'question': 'Can I do the course in other languages, like R or Scala?',\n",
       "  'course': 'machine-learning-zoomcamp',\n",
       "  'id': '9f261648'},\n",
       " {'text': 'We won’t re-record the course videos. The focus of the course and the skills we want to teach remained the same, and the videos are still up-to-date.\\nIf you haven’t taken part in the previous iteration, you can start watching the videos. It’ll be useful for you and you will learn new things. However, we recommend using Python 3.10 now instead of Python 3.8.',\n",
       "  'section': 'General course-related questions',\n",
       "  'question': 'The course videos are from the previous iteration. Will you release new ones or we’ll use the videos from 2021?',\n",
       "  'course': 'machine-learning-zoomcamp',\n",
       "  'id': 'e7ba6b8a'}]"
      ]
     },
     "execution_count": 8,
     "metadata": {},
     "output_type": "execute_result"
    }
   ],
   "source": [
    "class VectorSearchEngine:\n",
    "    def __init__(self, documents, embeddings):\n",
    "        self.documents = documents\n",
    "        self.embeddings = embeddings\n",
    "\n",
    "    def search(self, v_query, num_results=10):\n",
    "        scores = self.embeddings.dot(v_query)\n",
    "        idx = np.argpartition(-scores, num_results)[:num_results]\n",
    "        # Sort the top num_results indices to ensure the results are in order\n",
    "        idx = idx[np.argsort(-scores[idx])]\n",
    "        return [self.documents[i] for i in idx]\n",
    "\n",
    "search_engine = VectorSearchEngine(documents=filtered_documents, embeddings=X)\n",
    "search_engine.search(question_vector, num_results=5)"
   ]
  },
  {
   "cell_type": "markdown",
   "id": "1a75f8fe-dd18-4c88-b146-83a1483cd0c7",
   "metadata": {},
   "source": [
    "Q4. Hit-rate for our search engine"
   ]
  },
  {
   "cell_type": "code",
   "execution_count": 9,
   "id": "452832b4-bc9f-4788-aefa-6cd9f771ee49",
   "metadata": {},
   "outputs": [
    {
     "data": {
      "text/plain": [
       "{'question': 'Where can I sign up for the course?',\n",
       " 'course': 'machine-learning-zoomcamp',\n",
       " 'document': '0227b872'}"
      ]
     },
     "execution_count": 9,
     "metadata": {},
     "output_type": "execute_result"
    }
   ],
   "source": [
    "base_url = 'https://github.com/DataTalksClub/llm-zoomcamp/blob/main'\n",
    "relative_url = '03-vector-search/eval/ground-truth-data.csv'\n",
    "ground_truth_url = f'{base_url}/{relative_url}?raw=1'\n",
    "\n",
    "df_ground_truth = pd.read_csv(ground_truth_url)\n",
    "df_ground_truth = df_ground_truth[df_ground_truth.course == 'machine-learning-zoomcamp']\n",
    "ground_truth = df_ground_truth.to_dict(orient='records')\n",
    "ground_truth[0]"
   ]
  },
  {
   "cell_type": "code",
   "execution_count": 10,
   "id": "bea54fe0-1317-4ef6-b709-c1d85537498c",
   "metadata": {},
   "outputs": [],
   "source": [
    "# Define the search function wrapper\n",
    "def search_function(query):\n",
    "    return custom_search(query, search_engine, num_results=5)"
   ]
  },
  {
   "cell_type": "code",
   "execution_count": 11,
   "id": "09de383f-762d-48df-9138-f8fd24a1406e",
   "metadata": {},
   "outputs": [],
   "source": [
    "def custom_search(query, search_engine, num_results=5):\n",
    "    # Extracting fields from query dictionary\n",
    "    vector = model.encode(query['question'])  # Encode the query vector\n",
    "    course = query['course']\n",
    "    \n",
    "    # Filtered embeddings are already computed\n",
    "    filtered_documents = [doc for doc in search_engine.documents if doc.get('course') == course]\n",
    "    filtered_embeddings = search_engine.embeddings  # Use precomputed embeddings\n",
    "\n",
    "    # Create a new VectorSearchEngine for the filtered documents and embeddings\n",
    "    filtered_search_engine = VectorSearchEngine(documents=filtered_documents, embeddings=filtered_embeddings)\n",
    "\n",
    "    # Perform the search using the filtered search engine\n",
    "    result_docs = filtered_search_engine.search(vector, num_results=num_results)\n",
    "\n",
    "    return result_docs\n"
   ]
  },
  {
   "cell_type": "code",
   "execution_count": 12,
   "id": "17b5d63f-b51f-481f-b8f4-e88a317d5313",
   "metadata": {},
   "outputs": [],
   "source": [
    "def hit_rate(relevance_total):\n",
    "    cnt = 0\n",
    "\n",
    "    for line in relevance_total:\n",
    "        if True in line:\n",
    "            cnt = cnt + 1\n",
    "\n",
    "    return cnt / len(relevance_total)\n"
   ]
  },
  {
   "cell_type": "code",
   "execution_count": 13,
   "id": "bcf08c21-90cd-4322-845f-4912672e0e1f",
   "metadata": {},
   "outputs": [],
   "source": [
    "def mrr(relevance_total):\n",
    "    total_score = 0.0\n",
    "    for line in relevance_total:\n",
    "        for rank in range(len(line)):\n",
    "            if line[rank]:\n",
    "                total_score += 1 / (rank + 1)\n",
    "                break\n",
    "    return total_score / len(relevance_total)"
   ]
  },
  {
   "cell_type": "code",
   "execution_count": 14,
   "id": "2b022c1b-6fea-42b4-8231-e88b86f2a34b",
   "metadata": {},
   "outputs": [],
   "source": [
    "def evaluate(ground_truth, search_function):\n",
    "    relevance_total = []\n",
    "    for q in tqdm(ground_truth):\n",
    "        doc_id = q['document']\n",
    "        results = search_function(q)\n",
    "        relevance = [d['id'] == doc_id for d in results]\n",
    "        relevance_total.append(relevance)\n",
    "\n",
    "    return {\n",
    "        'hit_rate': hit_rate(relevance_total),\n",
    "        'mrr': mrr(relevance_total),\n",
    "    }\n",
    "\n",
    "\n"
   ]
  },
  {
   "cell_type": "markdown",
   "id": "9dae76a1-649c-4601-83c5-efa96b36244d",
   "metadata": {},
   "source": [
    "Now use the code from the module to calculate the hitrate of VectorSearchEngine with num_results=5"
   ]
  },
  {
   "cell_type": "code",
   "execution_count": 15,
   "id": "d1a99fe5-20c8-4783-adae-27f3a3937d55",
   "metadata": {},
   "outputs": [
    {
     "data": {
      "application/vnd.jupyter.widget-view+json": {
       "model_id": "0b5b5f1b783a429cb91ae81dffb8a169",
       "version_major": 2,
       "version_minor": 0
      },
      "text/plain": [
       "  0%|          | 0/1830 [00:00<?, ?it/s]"
      ]
     },
     "metadata": {},
     "output_type": "display_data"
    },
    {
     "name": "stdout",
     "output_type": "stream",
     "text": [
      "{'hit_rate': 0.9398907103825137, 'mrr': 0.8502823315118397}\n"
     ]
    }
   ],
   "source": [
    "# Evaluate\n",
    "results = evaluate(ground_truth, search_function)\n",
    "print(results)\n"
   ]
  },
  {
   "cell_type": "markdown",
   "id": "95a36972-9848-46b1-9c44-0a938bfb367b",
   "metadata": {},
   "source": [
    "What did you get? 0.93"
   ]
  },
  {
   "cell_type": "markdown",
   "id": "a5162dc4-a298-445d-9efb-2aa94916520b",
   "metadata": {},
   "source": [
    "Q5. Indexing with Elasticsearch"
   ]
  },
  {
   "cell_type": "code",
   "execution_count": 16,
   "id": "68462897-0326-41ea-8401-ffa554ddffa0",
   "metadata": {},
   "outputs": [],
   "source": [
    "es_client = Elasticsearch('http://localhost:9200')"
   ]
  },
  {
   "cell_type": "code",
   "execution_count": 17,
   "id": "85ab7f7e-4d64-48db-ab7f-873ab2a7f81f",
   "metadata": {},
   "outputs": [
    {
     "data": {
      "text/plain": [
       "ObjectApiResponse({'acknowledged': True, 'shards_acknowledged': True, 'index': 'course-questions'})"
      ]
     },
     "execution_count": 17,
     "metadata": {},
     "output_type": "execute_result"
    }
   ],
   "source": [
    "index_settings = {\n",
    "    \"settings\": {\n",
    "        \"number_of_shards\": 1,\n",
    "        \"number_of_replicas\": 0\n",
    "    },\n",
    "    \"mappings\": {\n",
    "        \"properties\": {\n",
    "            \"text\": {\"type\": \"text\"},\n",
    "            \"section\": {\"type\": \"keyword\"},\n",
    "            \"question\": {\"type\": \"text\"},\n",
    "            \"course\": {\"type\": \"keyword\"} ,\n",
    "            \"question_vector\":{\"type\":\"dense_vector\",\"dims\": 375,\"index\":True,\"similarity\": \"cosine\"\n",
    "        },\n",
    "        }\n",
    "    }\n",
    "}\n",
    "\n",
    "index_name = \"course-questions\"\n",
    "\n",
    "es_client.indices.delete(index=index_name, ignore_unavailable=True)\n",
    "es_client.indices.create(index=index_name, body=index_settings)"
   ]
  },
  {
   "cell_type": "code",
   "execution_count": 18,
   "id": "6cd0c76a-bd11-47f7-bc5d-0c40a9769fcc",
   "metadata": {},
   "outputs": [
    {
     "data": {
      "application/vnd.jupyter.widget-view+json": {
       "model_id": "ced3d9119cec41c193155b6ccfbd6e5b",
       "version_major": 2,
       "version_minor": 0
      },
      "text/plain": [
       "  0%|          | 0/948 [00:00<?, ?it/s]"
      ]
     },
     "metadata": {},
     "output_type": "display_data"
    }
   ],
   "source": [
    "for doc in tqdm(documents):\n",
    "    es_client.index(index=index_name, document=doc)"
   ]
  },
  {
   "cell_type": "code",
   "execution_count": 22,
   "id": "41f1e552-3b19-4e1c-a57f-ce163fcca25f",
   "metadata": {},
   "outputs": [],
   "source": [
    "def elastic_search(query, course, num_results=5):\n",
    "    search_query = {\n",
    "        \"size\": num_results,\n",
    "        \"query\": {\n",
    "            \"bool\": {\n",
    "                \"must\": {\n",
    "                    \"multi_match\": {\n",
    "                        \"query\": query,\n",
    "                        \"fields\": [\"question^3\", \"text\", \"section\"],\n",
    "                        \"type\": \"best_fields\"\n",
    "                    }\n",
    "                },\n",
    "                \"filter\": {\n",
    "                    \"term\": {\n",
    "                        \"course\": course\n",
    "                    }\n",
    "                }\n",
    "            }\n",
    "        },\n",
    "        \"sort\": [\n",
    "            {\"_score\": {\"order\": \"desc\"}}\n",
    "        ]\n",
    "    }\n",
    "\n",
    "    response = es_client.search(index=index_name, body=search_query)\n",
    "    \n",
    "    result_docs = []\n",
    "    \n",
    "    for hit in response['hits']['hits']:\n",
    "        result_docs.append(hit['_source'])\n",
    "    \n",
    "    return result_docs\n",
    "\n"
   ]
  },
  {
   "cell_type": "code",
   "execution_count": 31,
   "id": "e9b30fd5-885f-4158-b7d9-aa9361b4847b",
   "metadata": {},
   "outputs": [],
   "source": [
    "def evaluate(ground_truth, course, search_function):\n",
    "    relevance_total = []\n",
    "    for q in tqdm(ground_truth):\n",
    "        doc_id = q['document']\n",
    "        results = search_function(q['question'], course)  # Pass query and course to search_function\n",
    "        relevance = [d['id'] == doc_id for d in results]\n",
    "        relevance_total.append(relevance)\n",
    "\n",
    "    return {\n",
    "        'hit_rate': hit_rate(relevance_total),\n",
    "        'mrr': mrr(relevance_total),\n",
    "    }"
   ]
  },
  {
   "cell_type": "code",
   "execution_count": 32,
   "id": "de5b0861-1db2-43a6-804b-3da8bed82402",
   "metadata": {},
   "outputs": [
    {
     "data": {
      "text/plain": [
       "[{'text': 'Yes, you can. You won’t be able to submit some of the homeworks, but you can still take part in the course.\\nIn order to get a certificate, you need to submit 2 out of 3 course projects and review 3 peers’ Projects by the deadline. It means that if you join the course at the end of November and manage to work on two projects, you will still be eligible for a certificate.',\n",
       "  'section': 'General course-related questions',\n",
       "  'question': 'The course has already started. Can I still join it?',\n",
       "  'course': 'machine-learning-zoomcamp',\n",
       "  'id': 'ee58a693'},\n",
       " {'text': 'Welcome to the course! Go to the course page (http://mlzoomcamp.com/), scroll down and start going through the course materials. Then read everything in the cohort folder for your cohort’s year.\\nClick on the links and start watching the videos. Also watch office hours from previous cohorts. Go to DTC youtube channel and click on Playlists and search for {course yyyy}. ML Zoomcamp was first launched in 2021.\\nOr you can just use this link: http://mlzoomcamp.com/#syllabus',\n",
       "  'section': 'General course-related questions',\n",
       "  'question': 'I just joined. What should I do next? How can I access course materials?',\n",
       "  'course': 'machine-learning-zoomcamp',\n",
       "  'id': '0a278fb2'},\n",
       " {'text': \"Yes! We'll cover some linear algebra in the course, but in general, there will be very few formulas, mostly code.\\nHere are some interesting videos covering linear algebra that you can already watch: ML Zoomcamp 1.8 - Linear Algebra Refresher from Alexey Grigorev or the excellent playlist from 3Blue1Brown Vectors | Chapter 1, Essence of linear algebra. Never hesitate to ask the community for help if you have any question.\\n(Mélanie Fouesnard)\",\n",
       "  'section': 'General course-related questions',\n",
       "  'question': \"I don't know math. Can I take the course?\",\n",
       "  'course': 'machine-learning-zoomcamp',\n",
       "  'id': 'c25b3de4'},\n",
       " {'text': 'Technically, yes. Advisable? Not really. Reasons:\\nSome homework(s) asks for specific python library versions.\\nAnswers may not match in MCQ options if using different languages other than Python 3.10 (the recommended version for 2023 cohort)\\nAnd as for midterms/capstones, your peer-reviewers may not know these other languages. Do you want to be penalized for others not knowing these other languages?\\nYou can create a separate repo using course’s lessons but written in other languages for your own learnings, but not advisable for submissions.\\ntx[source]',\n",
       "  'section': 'Miscellaneous',\n",
       "  'question': 'Can I do the course in other languages, like R or Scala?',\n",
       "  'course': 'machine-learning-zoomcamp',\n",
       "  'id': '9f261648'},\n",
       " {'text': \"It's a complex and abstract topic and it requires some time to understand. You can move on without fully understanding the concept.\\nNonetheless, it might be useful for you to rewatch the video, or even watch videos/lectures/notes by other people on this topic, as the ROC AUC is one of the most important metrics used in Binary Classification models.\",\n",
       "  'section': '4. Evaluation Metrics for Classification',\n",
       "  'question': 'I didn’t fully understand the ROC curve. Can I move on?',\n",
       "  'course': 'machine-learning-zoomcamp',\n",
       "  'id': '41521c92'}]"
      ]
     },
     "execution_count": 32,
     "metadata": {},
     "output_type": "execute_result"
    }
   ],
   "source": [
    "course ='machine-learning-zoomcamp'\n",
    "elastic_search(user_question, course)"
   ]
  },
  {
   "cell_type": "markdown",
   "id": "44857f72-1414-429d-982a-3d6908a2d616",
   "metadata": {},
   "source": [
    "What's the ID of the document with the highest score? id': '7842b56a'"
   ]
  },
  {
   "cell_type": "markdown",
   "id": "22fbc9d7-4acc-4514-ba7b-a0c03158f112",
   "metadata": {},
   "source": [
    "Q6. Hit-rate for Elasticsearch"
   ]
  },
  {
   "cell_type": "code",
   "execution_count": 33,
   "id": "be4ea5df-4b37-4964-9b24-be46193b85b3",
   "metadata": {},
   "outputs": [
    {
     "data": {
      "application/vnd.jupyter.widget-view+json": {
       "model_id": "e7805dd769024d12b31ad88787dd3549",
       "version_major": 2,
       "version_minor": 0
      },
      "text/plain": [
       "  0%|          | 0/1830 [00:00<?, ?it/s]"
      ]
     },
     "metadata": {},
     "output_type": "display_data"
    },
    {
     "name": "stdout",
     "output_type": "stream",
     "text": [
      "{'hit_rate': 0.7491803278688525, 'mrr': 0.6056284153005476}\n"
     ]
    }
   ],
   "source": [
    "# Evaluate using Elasticsearch\n",
    "results = evaluate(ground_truth, course, elastic_search)\n",
    "print(results)"
   ]
  },
  {
   "cell_type": "markdown",
   "id": "0974be56-22bd-4544-bdbd-62f89072143e",
   "metadata": {},
   "source": [
    "What's hitrate for our dataset for Elastic? 0.75"
   ]
  },
  {
   "cell_type": "code",
   "execution_count": null,
   "id": "0d8b9ce8-4176-45dc-86a0-27c4c517d566",
   "metadata": {},
   "outputs": [],
   "source": []
  },
  {
   "cell_type": "code",
   "execution_count": null,
   "id": "652c535c-f7d5-4a61-beb9-4db5410cda53",
   "metadata": {},
   "outputs": [],
   "source": []
  }
 ],
 "metadata": {
  "kernelspec": {
   "display_name": "Python 3 (ipykernel)",
   "language": "python",
   "name": "python3"
  },
  "language_info": {
   "codemirror_mode": {
    "name": "ipython",
    "version": 3
   },
   "file_extension": ".py",
   "mimetype": "text/x-python",
   "name": "python",
   "nbconvert_exporter": "python",
   "pygments_lexer": "ipython3",
   "version": "3.12.4"
  }
 },
 "nbformat": 4,
 "nbformat_minor": 5
}
